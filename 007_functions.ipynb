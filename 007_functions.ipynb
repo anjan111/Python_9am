{
 "cells": [
  {
   "cell_type": "code",
   "execution_count": 2,
   "metadata": {},
   "outputs": [
    {
     "name": "stdout",
     "output_type": "stream",
     "text": [
      "enter a : 78\n",
      "enter b : 22\n",
      "res :  100\n"
     ]
    }
   ],
   "source": [
    "# addition of 2 numbers \n",
    "\n",
    "# python structure \n",
    "\n",
    "def main():\n",
    "    a = int(input(\"enter a : \"))\n",
    "    b = int(input(\"enter b : \"))\n",
    "    res = a+b\n",
    "    print(\"res : \",res)\n",
    "main()    \n"
   ]
  },
  {
   "cell_type": "code",
   "execution_count": 3,
   "metadata": {},
   "outputs": [
    {
     "name": "stdout",
     "output_type": "stream",
     "text": [
      "enter a : 45\n",
      "enter b : 45\n",
      "res :  90\n"
     ]
    }
   ],
   "source": [
    "def add(a , b):\n",
    "    res = a+b\n",
    "    return res\n",
    "def main():\n",
    "    a = int(input(\"enter a : \"))\n",
    "    b = int(input(\"enter b : \"))\n",
    "    res = add(a,b)\n",
    "    print(\"res : \",res)\n",
    "main()   "
   ]
  },
  {
   "cell_type": "code",
   "execution_count": null,
   "metadata": {},
   "outputs": [],
   "source": [
    "# wap find the sum of digits in a number using fun"
   ]
  },
  {
   "cell_type": "code",
   "execution_count": null,
   "metadata": {},
   "outputs": [],
   "source": [
    "#wap find the no of digits in anumber"
   ]
  },
  {
   "cell_type": "code",
   "execution_count": null,
   "metadata": {},
   "outputs": [],
   "source": [
    "# wap find the factorial of a number"
   ]
  },
  {
   "cell_type": "code",
   "execution_count": 5,
   "metadata": {},
   "outputs": [
    {
     "name": "stdout",
     "output_type": "stream",
     "text": [
      "enter Num : 10\n",
      "0  1  1  2  3  5  8  13  21  34  "
     ]
    }
   ],
   "source": [
    "#  wap generate fibonic series\n",
    "# 10 ===>>>  0   1    1     2    3    5   8   13   21   34\n",
    "\n",
    "def  fibonic(N):# formal argument\n",
    "    pri_term = 0\n",
    "    pre_term = 1\n",
    "    for i in range(N):\n",
    "        print(pri_term, end = \"  \")\n",
    "        new_term= pri_term + pre_term\n",
    "        pri_term = pre_term\n",
    "        pre_term = new_term\n",
    "def main():\n",
    "        num = int(input(\"enter Num : \"))\n",
    "        fibonic(num)# actual argument \n",
    "main()\n",
    "        "
   ]
  },
  {
   "cell_type": "code",
   "execution_count": 9,
   "metadata": {},
   "outputs": [
    {
     "name": "stdout",
     "output_type": "stream",
     "text": [
      "123\n"
     ]
    }
   ],
   "source": [
    "# default arguments\n",
    "'''\n",
    "===>> if your not sending the actual arguments from function call\n",
    "\n",
    "but formal arguments having default daata\n",
    "'''\n",
    "def default_arg(var = 123):\n",
    "    print(var)\n",
    "default_arg() "
   ]
  },
  {
   "cell_type": "code",
   "execution_count": 13,
   "metadata": {},
   "outputs": [
    {
     "name": "stdout",
     "output_type": "stream",
     "text": [
      "(10, 20, 56, 78, 656, 5, 85)\n"
     ]
    }
   ],
   "source": [
    "# packing \n",
    "'''\n",
    "===>>> set of / multiple actual arguments sending to function def from\n",
    "function call ,  a single formal argument store all actual argument\n",
    "\n",
    "'''\n",
    "def  packing(*var):\n",
    "    print(var)\n",
    "packing(10,20,56,78,656,5,85)"
   ]
  },
  {
   "cell_type": "code",
   "execution_count": 20,
   "metadata": {},
   "outputs": [
    {
     "name": "stdout",
     "output_type": "stream",
     "text": [
      "[1, 2.5, (3+6j), True, None]\n",
      "1\n",
      "2.5\n",
      "(3+6j)\n",
      "True\n",
      "None\n"
     ]
    }
   ],
   "source": [
    "# unpacking \n",
    "'''\n",
    "===>> a single seq data variable sending from fun cal to fun def\n",
    "\n",
    "multiple arguments can stores individual seq elements can store\n",
    "\n",
    "'''\n",
    "def unpack(a0,a1,a2,a3,a4):\n",
    "    print(a0)\n",
    "    print(a1)\n",
    "    print(a2)\n",
    "    print(a3)\n",
    "    print(a4)\n",
    "    \n",
    "a = [1,2.5,3+6j,True,None]\n",
    "print(a)\n",
    "unpack(*a)"
   ]
  },
  {
   "cell_type": "code",
   "execution_count": 19,
   "metadata": {},
   "outputs": [
    {
     "name": "stdout",
     "output_type": "stream",
     "text": [
      "[1, 2, 3, 4, 5]\n",
      "[1, 2, 3, 4, 5]\n"
     ]
    }
   ],
   "source": [
    "def unpack(b):\n",
    "    print(b)\n",
    "    \n",
    "a = [1,2,3,4,5]\n",
    "print(a)\n",
    "unpack(a)"
   ]
  },
  {
   "cell_type": "code",
   "execution_count": 22,
   "metadata": {},
   "outputs": [
    {
     "name": "stdout",
     "output_type": "stream",
     "text": [
      "100\n",
      "100\n"
     ]
    }
   ],
   "source": [
    "# global variables \n",
    "'''\n",
    "===>>> defaultly all variables are global variables when we defined \n",
    "outside of function defiantion\n",
    "\n",
    "==>>> the scope and life time whole program\n",
    "\n",
    "'''\n",
    "var =100   # this is default global variable\n",
    "def fun():\n",
    "    print(var)\n",
    "fun()\n",
    "print(var)\n"
   ]
  },
  {
   "cell_type": "code",
   "execution_count": 23,
   "metadata": {},
   "outputs": [
    {
     "name": "stdout",
     "output_type": "stream",
     "text": [
      "45\n",
      "100\n"
     ]
    },
    {
     "ename": "NameError",
     "evalue": "name 'var2' is not defined",
     "output_type": "error",
     "traceback": [
      "\u001b[1;31m---------------------------------------------------------------------------\u001b[0m",
      "\u001b[1;31mNameError\u001b[0m                                 Traceback (most recent call last)",
      "\u001b[1;32m<ipython-input-23-255a583d8489>\u001b[0m in \u001b[0;36m<module>\u001b[1;34m\u001b[0m\n\u001b[0;32m      6\u001b[0m \u001b[1;33m\u001b[0m\u001b[0m\n\u001b[0;32m      7\u001b[0m \u001b[0mfun\u001b[0m\u001b[1;33m(\u001b[0m\u001b[1;33m)\u001b[0m\u001b[1;33m\u001b[0m\u001b[1;33m\u001b[0m\u001b[0m\n\u001b[1;32m----> 8\u001b[1;33m \u001b[0mprint\u001b[0m\u001b[1;33m(\u001b[0m\u001b[0mvar2\u001b[0m\u001b[1;33m)\u001b[0m\u001b[1;33m\u001b[0m\u001b[1;33m\u001b[0m\u001b[0m\n\u001b[0m\u001b[0;32m      9\u001b[0m \u001b[0mprint\u001b[0m\u001b[1;33m(\u001b[0m\u001b[0mvar1\u001b[0m\u001b[1;33m)\u001b[0m\u001b[1;33m\u001b[0m\u001b[1;33m\u001b[0m\u001b[0m\n",
      "\u001b[1;31mNameError\u001b[0m: name 'var2' is not defined"
     ]
    }
   ],
   "source": [
    "var1 =100   # this is default global variable\n",
    "def fun():\n",
    "    var2 =45 # local variable are with in the function definations\n",
    "    print(var2)  \n",
    "    print(var1)\n",
    "    \n",
    "fun()\n",
    "print(var2)\n",
    "print(var1)"
   ]
  },
  {
   "cell_type": "code",
   "execution_count": 26,
   "metadata": {},
   "outputs": [
    {
     "name": "stdout",
     "output_type": "stream",
     "text": [
      "45\n",
      "45\n",
      "100\n",
      "100\n"
     ]
    }
   ],
   "source": [
    "var1 =100   # this is default global variable\n",
    "def fun():\n",
    "    var1 =45 # this is local varible\n",
    "    print(var1)  \n",
    "    print(var1)\n",
    "    \n",
    "fun()\n",
    "print(var1)\n",
    "print(var1)"
   ]
  },
  {
   "cell_type": "code",
   "execution_count": 27,
   "metadata": {},
   "outputs": [
    {
     "ename": "UnboundLocalError",
     "evalue": "local variable 'var1' referenced before assignment",
     "output_type": "error",
     "traceback": [
      "\u001b[1;31m---------------------------------------------------------------------------\u001b[0m",
      "\u001b[1;31mUnboundLocalError\u001b[0m                         Traceback (most recent call last)",
      "\u001b[1;32m<ipython-input-27-50cd48b3fe0f>\u001b[0m in \u001b[0;36m<module>\u001b[1;34m\u001b[0m\n\u001b[0;32m      5\u001b[0m     \u001b[0mprint\u001b[0m\u001b[1;33m(\u001b[0m\u001b[0mvar1\u001b[0m\u001b[1;33m)\u001b[0m\u001b[1;33m\u001b[0m\u001b[1;33m\u001b[0m\u001b[0m\n\u001b[0;32m      6\u001b[0m \u001b[1;33m\u001b[0m\u001b[0m\n\u001b[1;32m----> 7\u001b[1;33m \u001b[0mfun\u001b[0m\u001b[1;33m(\u001b[0m\u001b[1;33m)\u001b[0m\u001b[1;33m\u001b[0m\u001b[1;33m\u001b[0m\u001b[0m\n\u001b[0m\u001b[0;32m      8\u001b[0m \u001b[0mprint\u001b[0m\u001b[1;33m(\u001b[0m\u001b[0mvar1\u001b[0m\u001b[1;33m)\u001b[0m\u001b[1;33m\u001b[0m\u001b[1;33m\u001b[0m\u001b[0m\n\u001b[0;32m      9\u001b[0m \u001b[0mprint\u001b[0m\u001b[1;33m(\u001b[0m\u001b[0mvar1\u001b[0m\u001b[1;33m)\u001b[0m\u001b[1;33m\u001b[0m\u001b[1;33m\u001b[0m\u001b[0m\n",
      "\u001b[1;32m<ipython-input-27-50cd48b3fe0f>\u001b[0m in \u001b[0;36mfun\u001b[1;34m()\u001b[0m\n\u001b[0;32m      1\u001b[0m \u001b[0mvar1\u001b[0m \u001b[1;33m=\u001b[0m\u001b[1;36m100\u001b[0m   \u001b[1;31m# this is default global variable\u001b[0m\u001b[1;33m\u001b[0m\u001b[1;33m\u001b[0m\u001b[0m\n\u001b[0;32m      2\u001b[0m \u001b[1;32mdef\u001b[0m \u001b[0mfun\u001b[0m\u001b[1;33m(\u001b[0m\u001b[1;33m)\u001b[0m\u001b[1;33m:\u001b[0m\u001b[1;33m\u001b[0m\u001b[1;33m\u001b[0m\u001b[0m\n\u001b[1;32m----> 3\u001b[1;33m     \u001b[0mprint\u001b[0m\u001b[1;33m(\u001b[0m\u001b[0mvar1\u001b[0m\u001b[1;33m)\u001b[0m\u001b[1;33m\u001b[0m\u001b[1;33m\u001b[0m\u001b[0m\n\u001b[0m\u001b[0;32m      4\u001b[0m     \u001b[0mvar1\u001b[0m \u001b[1;33m=\u001b[0m \u001b[1;36m45\u001b[0m\u001b[1;33m\u001b[0m\u001b[1;33m\u001b[0m\u001b[0m\n\u001b[0;32m      5\u001b[0m     \u001b[0mprint\u001b[0m\u001b[1;33m(\u001b[0m\u001b[0mvar1\u001b[0m\u001b[1;33m)\u001b[0m\u001b[1;33m\u001b[0m\u001b[1;33m\u001b[0m\u001b[0m\n",
      "\u001b[1;31mUnboundLocalError\u001b[0m: local variable 'var1' referenced before assignment"
     ]
    }
   ],
   "source": [
    "var1 =100   # this is default global variable\n",
    "def fun():\n",
    "    print(var1) \n",
    "    var1 = 45\n",
    "    print(var1)\n",
    "    \n",
    "fun()\n",
    "print(var1)\n",
    "print(var1)"
   ]
  },
  {
   "cell_type": "code",
   "execution_count": 28,
   "metadata": {},
   "outputs": [
    {
     "name": "stdout",
     "output_type": "stream",
     "text": [
      "100\n",
      "45\n",
      "45\n",
      "45\n"
     ]
    }
   ],
   "source": [
    "var1 =100   # this is default global variable\n",
    "def fun():\n",
    "    global var1 # global variables can modify\n",
    "    print(var1) \n",
    "    var1 = 45\n",
    "    print(var1)\n",
    "var1    \n",
    "fun()\n",
    "print(var1)\n",
    "print(var1)"
   ]
  },
  {
   "cell_type": "code",
   "execution_count": 35,
   "metadata": {},
   "outputs": [
    {
     "name": "stdout",
     "output_type": "stream",
     "text": [
      "i am out fun1\n",
      "i am out fun2\n",
      "i am in fun\n"
     ]
    }
   ],
   "source": [
    "# nested functions \n",
    "'''\n",
    "A function def can contains one more function def\n",
    "\n",
    "'''\n",
    "def out_fun():\n",
    "    print(\"i am out fun1\")\n",
    "    def in_fun():\n",
    "        print(\"i am in fun\")\n",
    "    print(\"i am out fun2\")\n",
    "    in_fun()\n",
    "out_fun()\n"
   ]
  }
 ],
 "metadata": {
  "kernelspec": {
   "display_name": "Python 3",
   "language": "python",
   "name": "python3"
  },
  "language_info": {
   "codemirror_mode": {
    "name": "ipython",
    "version": 3
   },
   "file_extension": ".py",
   "mimetype": "text/x-python",
   "name": "python",
   "nbconvert_exporter": "python",
   "pygments_lexer": "ipython3",
   "version": "3.7.3"
  }
 },
 "nbformat": 4,
 "nbformat_minor": 2
}
