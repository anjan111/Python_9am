{
 "cells": [
  {
   "cell_type": "markdown",
   "metadata": {},
   "source": [
    "# file : -\n",
    "--------\n",
    "\n",
    "===>> file is a part a storage deevice\n",
    "\n",
    "===>> file it can store related information\n",
    "\n",
    "# there are 2 types\n",
    "\n",
    "1. text file  \n",
    "\n",
    "    ===>> A file it can contains alpha numarical data\n",
    "    \n",
    "    ===>> Text files are readable and writeable\n",
    "    \n",
    "    ===>> all .doc / .txt / .py / .c  / program files\n",
    "    \n",
    "2. Binary file \n",
    "\n",
    "    ====>>  A file it can contains only  0 and 1\n",
    "    \n",
    "    ===>>  it can't easy to readable and writeable\n",
    "    \n",
    "    ===>>  .png  /.jpg  / all image and video \n",
    "    \n",
    "    ===>> all execuatable files \n",
    "    \n",
    "\n",
    "# file operations \n",
    "\n",
    "\n",
    "===> creating a file / opening a file\n",
    "\n",
    "===> we can reading / writing \n",
    "\n",
    "===> we can close file\n",
    "\n",
    "\n",
    "# file operational methodes  are aviable in file class\n",
    "\n",
    "===> we can create a file object using open( ) methode\n",
    "\n",
    "===> we can distroy the file object by close()\n",
    "\n",
    "===> read(  )  is used for to read the data from file\n",
    "\n",
    "===> readline()  it used for to read single line at a time \n",
    "\n",
    "===> readlines()  it used for to read all lines from the file\n",
    "\n",
    "===> write() ===> we can insert the insert the data into the file\n",
    "\n",
    "===> seek() ====> file cursor we can change the location \n",
    "\n",
    "===>  tell() ==> to know the cursor location\n",
    "\n",
    "\n",
    "\n",
    "# open (  \"filename with path \" , \" mode opearation \" )\n",
    "\n",
    "\n",
    "====> we can open any file in 3 modes\n",
    "\n",
    "1. write mode    :-\n",
    "---------------------\n",
    "\n",
    "        \"w\" :- write only  not for read\n",
    "        \n",
    "        \"w+\" : write + read ( both we can  do)\n",
    "        \n",
    "        file is already existed with some data , the whole data can lost\n",
    "        \n",
    "        file is not existed then creates new file\n",
    "        \n",
    "2. append mode :\n",
    "        \n",
    "        ==> file is not existed then create the file \n",
    "        \n",
    "        \"a\" ===>> write only and end of the file\n",
    "        \n",
    "        \"a+\" ==> read from biiging + write end og the file\n",
    "        \n",
    "        ===>> file is existed with some daata , file data can safe.\n",
    "        \n",
    "3. read mode : \n",
    "\n",
    "        ===> file is not existed then its error\n",
    "        \n",
    "        ===> file is existed with some data , data can be safe\n",
    "        \n",
    "        \"r\" ===> only for reading\n",
    "        \n",
    "        \"r+\" ==> read+ write\n",
    "        \n",
    "        \n",
    "\n",
    "\n",
    "\n",
    "\n",
    "\n",
    "\n",
    "\n",
    "\n",
    "\n",
    "\n",
    "\n",
    "\n",
    "\n",
    "\n",
    "\n",
    "\n",
    "\n",
    "\n",
    "\n",
    "\n",
    "\n",
    "\n",
    "\n",
    "\n",
    "\n",
    "\n",
    "\n",
    "\n"
   ]
  },
  {
   "cell_type": "code",
   "execution_count": 5,
   "metadata": {},
   "outputs": [
    {
     "name": "stdout",
     "output_type": "stream",
     "text": [
      "enter data into the file : \"kjhjj\"\n"
     ]
    }
   ],
   "source": [
    "# wrire mode  ===>  \"w\"\n",
    "fo = open(\"sample.txt\",\"w\")\n",
    "data = input(\"enter data into the file : \")\n",
    "fo.write(data)\n",
    "#fo.read()\n",
    "fo.close()"
   ]
  },
  {
   "cell_type": "code",
   "execution_count": 9,
   "metadata": {},
   "outputs": [
    {
     "name": "stdout",
     "output_type": "stream",
     "text": [
      "enter data into the file : \"klfkj\"\n",
      "klfkj\n"
     ]
    }
   ],
   "source": [
    "# wrire mode  ===>  \"w+\"\n",
    "fo = open(\"sample.txt\",\"w+\")\n",
    "data = input(\"enter data into the file : \")\n",
    "fo.write(data)\n",
    "fo.seek(0,0)# bigging of the file\n",
    "print(fo.read())\n",
    "fo.close()"
   ]
  },
  {
   "cell_type": "code",
   "execution_count": 13,
   "metadata": {},
   "outputs": [
    {
     "name": "stdout",
     "output_type": "stream",
     "text": [
      "enter data into the file : \"4th time appending\"\n"
     ]
    }
   ],
   "source": [
    "# append  mode  ===>  \"a\"\n",
    "fo = open(\"sample1.txt\",\"a\")\n",
    "data = input(\"enter data into the file : \")\n",
    "fo.write(data)\n",
    "#fo.read()\n",
    "fo.close()"
   ]
  },
  {
   "cell_type": "code",
   "execution_count": 15,
   "metadata": {},
   "outputs": [
    {
     "name": "stdout",
     "output_type": "stream",
     "text": [
      "('1st read : ', 'it is append mode2nd time appending 3rd time appending4th time appending')\n",
      "('2nd time  read : ', 'it is append mode2nd time appending 3rd time appending4th time appending')\n",
      "enter data into the file : \" 5th time appending\"\n"
     ]
    }
   ],
   "source": [
    "# append  mode  ===>  \"a+\"\n",
    "fo = open(\"sample1.txt\",\"a+\")\n",
    "print(\"1st read : \",fo.read())\n",
    "fo.seek(0,0)\n",
    "print(\"2nd time  read : \",fo.read())\n",
    "fo.seek(0,0)\n",
    "data = input(\"enter data into the file : \")\n",
    "fo.write(data)\n",
    "fo.close()"
   ]
  }
 ],
 "metadata": {
  "kernelspec": {
   "display_name": "Python 2",
   "language": "python",
   "name": "python2"
  },
  "language_info": {
   "codemirror_mode": {
    "name": "ipython",
    "version": 2
   },
   "file_extension": ".py",
   "mimetype": "text/x-python",
   "name": "python",
   "nbconvert_exporter": "python",
   "pygments_lexer": "ipython2",
   "version": "2.7.16"
  }
 },
 "nbformat": 4,
 "nbformat_minor": 2
}
