{
 "cells": [
  {
   "cell_type": "code",
   "execution_count": 2,
   "metadata": {},
   "outputs": [
    {
     "name": "stdout",
     "output_type": "stream",
     "text": [
      "enter your present age : 45\n",
      "enter your full name : Anjan Kumar\n",
      "enter DOB : 26/01/1994\n",
      "enter full Address : hyderabad\n",
      "successfully you applied voter id application\n",
      "Thanks for visting Voter id center\n"
     ]
    }
   ],
   "source": [
    "# wap fill the application voter id application\n",
    "\n",
    "age = int(input(\"enter your present age : \"))\n",
    "if ( age >= 18 ):\n",
    "    name = input(\"enter your full name : \")\n",
    "    DOB  = input(\"enter DOB : \")\n",
    "    addr = input(\"enter full Address : \")\n",
    "    print(\"successfully you applied voter id application\")\n",
    "print(\"Thanks for visting Voter id center\")"
   ]
  },
  {
   "cell_type": "code",
   "execution_count": 3,
   "metadata": {},
   "outputs": [
    {
     "name": "stdout",
     "output_type": "stream",
     "text": [
      "enter your present age : 16\n",
      "Thanks for visting Voter id center\n"
     ]
    }
   ],
   "source": [
    "age = int(input(\"enter your present age : \"))\n",
    "if ( age >= 18 ):\n",
    "    name = input(\"enter your full name : \")\n",
    "    DOB  = input(\"enter DOB : \")\n",
    "    addr = input(\"enter full Address : \")\n",
    "    print(\"successfully you applied voter id application\")\n",
    "print(\"Thanks for visting Voter id center\")"
   ]
  },
  {
   "cell_type": "code",
   "execution_count": 4,
   "metadata": {},
   "outputs": [
    {
     "name": "stdout",
     "output_type": "stream",
     "text": [
      "enter side of square in meter : 45\n",
      "peri of sqr :  180  meters\n",
      "Task over \n"
     ]
    }
   ],
   "source": [
    "# if and else\n",
    "# 1. wap find \n",
    "# the area of square when side is even other wise find the perimeter\n",
    "\n",
    "side = int(input(\"enter side of square in meter : \"))\n",
    "if( side % 2 == 0):\n",
    "    area = side ** 2\n",
    "    print(\"area of sqr :  \",area,\" sq . meters\")\n",
    "else:\n",
    "    peri = 4 * side\n",
    "    print(\"peri of sqr : \",peri,\" meters\")\n",
    "print(\"Task over \")"
   ]
  },
  {
   "cell_type": "code",
   "execution_count": 5,
   "metadata": {},
   "outputs": [
    {
     "name": "stdout",
     "output_type": "stream",
     "text": [
      "enter side of square in meter : 44\n",
      "area of sqr :   1936  sq . meters\n",
      "Task over \n"
     ]
    }
   ],
   "source": [
    "# if and else\n",
    "# 1. wap find \n",
    "# the area of square when side is even other wise find the perimeter\n",
    "\n",
    "side = int(input(\"enter side of square in meter : \"))\n",
    "if( side % 2 == 0):\n",
    "    area = side ** 2\n",
    "    print(\"area of sqr :  \",area,\" sq . meters\")\n",
    "else:\n",
    "    peri = 4 * side\n",
    "    print(\"peri of sqr : \",peri,\" meters\")\n",
    "print(\"Task over \")"
   ]
  },
  {
   "cell_type": "code",
   "execution_count": 14,
   "metadata": {},
   "outputs": [
    {
     "name": "stdout",
     "output_type": "stream",
     "text": [
      "enter no of years : 0\n",
      "salary 3 Lac PA when you have  0  years of exp\n"
     ]
    }
   ],
   "source": [
    "#wap find the salary based on employ exp\n",
    "exp = int(input(\"enter no of years : \"))\n",
    "if(exp >=0):\n",
    "    if( exp >= 0  and exp <2):\n",
    "        print(\"salary 3 Lac PA when you have \",exp,\" years of exp\")\n",
    "    elif( exp >= 2  and exp <4):\n",
    "        print(\"salary 6 Lac PA when you have \",exp,\" years of exp\")\n",
    "    elif( exp >= 4  and exp <8):\n",
    "        print(\"salary 12 Lac PA when you have \",exp,\" years of exp\")\n",
    "    elif( exp >= 8  and exp <12):\n",
    "        print(\"salary 24 Lac PA when you have \",exp,\" years of exp\")\n",
    "    else:\n",
    "        print(\"salary 50 Lac PA when you have \",exp,\" years of exp\")\n",
    "else:\n",
    "    print(\"enter proper exp\")"
   ]
  },
  {
   "cell_type": "code",
   "execution_count": null,
   "metadata": {},
   "outputs": [],
   "source": [
    "# wap find grading system based on student percntage"
   ]
  },
  {
   "cell_type": "code",
   "execution_count": 1,
   "metadata": {},
   "outputs": [
    {
     "name": "stdout",
     "output_type": "stream",
     "text": [
      "enter how many times to print : 5\n",
      "******* 1  time *******\n",
      "name : anjan kumar\n",
      "phone: 9640987960\n",
      "mail : anjan@gmail.com\n",
      "******* 2  time *******\n",
      "name : anjan kumar\n",
      "phone: 9640987960\n",
      "mail : anjan@gmail.com\n",
      "******* 3  time *******\n",
      "name : anjan kumar\n",
      "phone: 9640987960\n",
      "mail : anjan@gmail.com\n",
      "******* 4  time *******\n",
      "name : anjan kumar\n",
      "phone: 9640987960\n",
      "mail : anjan@gmail.com\n",
      "******* 5  time *******\n",
      "name : anjan kumar\n",
      "phone: 9640987960\n",
      "mail : anjan@gmail.com\n",
      "while condition is fails \n",
      "task over\n"
     ]
    }
   ],
   "source": [
    "# wap print your full details 10 times\n",
    "\n",
    "N = int(input(\"enter how many times to print : \"))\n",
    "i = 1\n",
    "while(i <=  N ):\n",
    "    print(\"*******\",i,\" time *******\")\n",
    "    print(\"name : anjan kumar\")\n",
    "    print(\"phone: 9640987960\")\n",
    "    print(\"mail : anjan@gmail.com\")\n",
    "    i = i + 1\n",
    "else:\n",
    "    print(\"while condition is fails \")\n",
    "print(\"task over\")\n",
    "    "
   ]
  },
  {
   "cell_type": "code",
   "execution_count": 2,
   "metadata": {},
   "outputs": [
    {
     "name": "stdout",
     "output_type": "stream",
     "text": [
      "enter N values : 5\n",
      "5   *   1  =   5\n",
      "5   *   2  =   10\n",
      "5   *   3  =   15\n",
      "5   *   4  =   20\n",
      "5   *   5  =   25\n",
      "5   *   6  =   30\n",
      "5   *   7  =   35\n",
      "5   *   8  =   40\n",
      "5   *   9  =   45\n",
      "5   *   10  =   50\n",
      "condition fails\n",
      "task over\n"
     ]
    }
   ],
   "source": [
    "# wap print the muplication table for any number\n",
    "'''\n",
    "5   *    1   =  5\n",
    "5   *    2   =  10\n",
    "---\n",
    "---\n",
    "5  * 10=50\n",
    "\n",
    "'''\n",
    "N = int(input(\"enter N values : \"))\n",
    "i = 1\n",
    "while(i <= 10):\n",
    "    print(N,\"  *  \",i,\" =  \",N*i)\n",
    "    i = i+1\n",
    "else:\n",
    "    print(\"condition fails\")\n",
    "print(\"task over\")"
   ]
  },
  {
   "cell_type": "code",
   "execution_count": 4,
   "metadata": {},
   "outputs": [
    {
     "name": "stdout",
     "output_type": "stream",
     "text": [
      "enter N : 100\n",
      "sum of 1st  100  natural numbers are :  5050\n",
      "Task over\n"
     ]
    }
   ],
   "source": [
    "# wap find the sum of 1st N natural number\n",
    "#  1 + 2 + 3+4+5----N\n",
    "N = int(input(\"enter N : \"))\n",
    "i = 1\n",
    "sum = 0\n",
    "while(i <= N):\n",
    "    sum = sum +i\n",
    "    i = i+1\n",
    "else:\n",
    "    print(\"sum of 1st \",N,\" natural numbers are : \",sum)\n",
    "print(\"Task over\")"
   ]
  },
  {
   "cell_type": "code",
   "execution_count": 5,
   "metadata": {},
   "outputs": [
    {
     "name": "stdout",
     "output_type": "stream",
     "text": [
      "enter N : 5\n",
      "factorial of  5  is :  120\n",
      "Task over\n"
     ]
    }
   ],
   "source": [
    "# wap find the factorial of a number\n",
    "# 5! ==>>  5*4*3*2*1 ===>> 120\n",
    "\n",
    "N = int(input(\"enter N : \"))\n",
    "i = 1\n",
    "fact =1\n",
    "while(i <= N):\n",
    "    fact = fact*i\n",
    "    i = i+1\n",
    "else:\n",
    "    print(\"factorial of \",N,\" is : \",fact)\n",
    "print(\"Task over\")"
   ]
  },
  {
   "cell_type": "code",
   "execution_count": null,
   "metadata": {},
   "outputs": [],
   "source": [
    "# wap find the no of factors of any number\n",
    "# 5 ===>> 1 ,5 =======>> 2\n",
    "# 6 ===>> 1, 2,3,6 ===>> 4"
   ]
  },
  {
   "cell_type": "code",
   "execution_count": null,
   "metadata": {},
   "outputs": [],
   "source": [
    "# wap find the given number is prime or not \n",
    "# 5 ===>> 1 ,5 =======>> 2 ====>> prime\n",
    "# 6 ===>> 1, 2,3,6 ===>> 4 ====>> not a prime"
   ]
  },
  {
   "cell_type": "code",
   "execution_count": null,
   "metadata": {},
   "outputs": [],
   "source": [
    "# wap find the no of digits in a number \n",
    "# 987401 ===>> 6\n",
    "#  765   ===>> 3\n"
   ]
  },
  {
   "cell_type": "code",
   "execution_count": null,
   "metadata": {},
   "outputs": [],
   "source": [
    "# wap find the sum of the digits in a number\n",
    "# 6723  ==>> 6 + 7 + 2+3 ===>> 18"
   ]
  },
  {
   "cell_type": "code",
   "execution_count": null,
   "metadata": {},
   "outputs": [],
   "source": [
    "# wap find the sum of squares of the digits in a number\n",
    "# 6723  ==>> 36 + 49 + 4 +9 ===>> 98"
   ]
  },
  {
   "cell_type": "code",
   "execution_count": null,
   "metadata": {},
   "outputs": [],
   "source": [
    "# wap find the reverse of a number \n",
    "\n",
    "# 457  ===>>  754\n",
    "\n",
    "# 1280  ===>> 821"
   ]
  },
  {
   "cell_type": "code",
   "execution_count": null,
   "metadata": {},
   "outputs": [],
   "source": [
    "# wap find the given number is palidrom or not\n",
    "\n",
    "# 464 ===>> 464 ===>> palidrom\n",
    "\n",
    "# 987  ===>> 789 ===>> "
   ]
  }
 ],
 "metadata": {
  "kernelspec": {
   "display_name": "Python 3",
   "language": "python",
   "name": "python3"
  },
  "language_info": {
   "codemirror_mode": {
    "name": "ipython",
    "version": 3
   },
   "file_extension": ".py",
   "mimetype": "text/x-python",
   "name": "python",
   "nbconvert_exporter": "python",
   "pygments_lexer": "ipython3",
   "version": "3.7.3"
  }
 },
 "nbformat": 4,
 "nbformat_minor": 2
}
