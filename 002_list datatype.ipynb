{
 "cells": [
  {
   "cell_type": "code",
   "execution_count": 1,
   "metadata": {},
   "outputs": [
    {
     "name": "stdout",
     "output_type": "stream",
     "text": [
      "[12, 45.56, (5+6j), True, None, 'soc', [12, 34], (12, 4), {67, 45}, {12: 'soc'}]\n",
      "<class 'list'>\n",
      "920359788040\n"
     ]
    }
   ],
   "source": [
    "# list datatype\n",
    "\n",
    "#  ===>>> a group of elements it can store with in  []\n",
    "#  ===>>> We can store dissimular datatype elements\n",
    "\n",
    "var = [12 , 45.56 ,5+6j,True,None, \"soc\",[12,34],(12,4),{45,67},{12:\"soc\"}]\n",
    "print(var)\n",
    "print(type(var))\n",
    "print(id(var))"
   ]
  },
  {
   "cell_type": "code",
   "execution_count": 2,
   "metadata": {},
   "outputs": [
    {
     "name": "stdout",
     "output_type": "stream",
     "text": [
      "12\n",
      "45.56\n",
      "(5+6j)\n",
      "{12: 'soc'}\n"
     ]
    }
   ],
   "source": [
    "# positve list indexing  0 ===>> len-1\n",
    "\n",
    "var = [12 , 45.56 ,5+6j,True,None, \"soc\",[12,34],(12,4),{45,67},{12:\"soc\"}]\n",
    "print(var[0])\n",
    "print(var[1])\n",
    "print(var[2])\n",
    "print(var[len(var)-1])"
   ]
  },
  {
   "cell_type": "code",
   "execution_count": 3,
   "metadata": {},
   "outputs": [
    {
     "name": "stdout",
     "output_type": "stream",
     "text": [
      "{12: 'soc'}\n",
      "{67, 45}\n",
      "(12, 4)\n",
      "12\n"
     ]
    }
   ],
   "source": [
    "# negative list indexing  -1 to -len\n",
    "\n",
    "var = [12 , 45.56 ,5+6j,True,None, \"soc\",[12,34],(12,4),{45,67},{12:\"soc\"}]\n",
    "\n",
    "print(var[-1])\n",
    "print(var[-2])\n",
    "print(var[-3])\n",
    "print(var[-len(var)])"
   ]
  },
  {
   "cell_type": "code",
   "execution_count": 5,
   "metadata": {},
   "outputs": [
    {
     "name": "stdout",
     "output_type": "stream",
     "text": [
      "[(5+6j), True, None, 'soc']\n",
      "[12, 45.56, (5+6j), True, None, 'soc']\n",
      "[(5+6j), True, None, 'soc', [12, 34], (12, 4), {67, 45}, {12: 'soc'}]\n"
     ]
    }
   ],
   "source": [
    "# list slicing \n",
    "'''\n",
    "var[ start : stop ]\n",
    "start ==>> 0\n",
    "stop  ==>> len of list\n",
    "'''\n",
    "\n",
    "# positve list indexing  0 ===>> len-1\n",
    "\n",
    "var = [12 , 45.56 ,5+6j,True,None, \"soc\",[12,34],(12,4),{45,67},{12:\"soc\"}]\n",
    "print(var[2:6])\n",
    "print(var[:6])\n",
    "print(var[2:])"
   ]
  },
  {
   "cell_type": "code",
   "execution_count": 6,
   "metadata": {},
   "outputs": [
    {
     "name": "stdout",
     "output_type": "stream",
     "text": [
      "[(5+6j), None, [12, 34]]\n",
      "[12, True, [12, 34]]\n",
      "[(5+6j), [12, 34]]\n"
     ]
    }
   ],
   "source": [
    "# list dicing\n",
    "'''\n",
    "var[ start :  stop : step]\n",
    "\n",
    "step ===>> 1\n",
    "'''\n",
    "\n",
    "\n",
    "var = [12 , 45.56 ,5+6j,True,None, \"soc\",[12,34],(12,4),{45,67},{12:\"soc\"}]\n",
    "print(var[2:8:2])#2, 4,6\n",
    "print(var[:8:3])# 0,3,6\n",
    "print(var[2::4])#2,6,"
   ]
  },
  {
   "cell_type": "code",
   "execution_count": 8,
   "metadata": {},
   "outputs": [
    {
     "name": "stdout",
     "output_type": "stream",
     "text": [
      "{67, 45}\n"
     ]
    },
    {
     "data": {
      "text/plain": [
       "[12, 45.56, (5+6j), True, None, 'soc', [12, 34], (12, 4), 89, {12: 'soc'}]"
      ]
     },
     "execution_count": 8,
     "metadata": {},
     "output_type": "execute_result"
    }
   ],
   "source": [
    "# list is immutable datatype\n",
    "var = [12 , 45.56 ,5+6j,True,None, \"soc\",[12,34],(12,4),{45,67},{12:\"soc\"}]\n",
    "print(var[8])\n",
    "var[8]= 89\n",
    "var"
   ]
  },
  {
   "cell_type": "code",
   "execution_count": 9,
   "metadata": {},
   "outputs": [
    {
     "name": "stdout",
     "output_type": "stream",
     "text": [
      "3\n",
      "89\n",
      "12\n",
      "168.34\n"
     ]
    }
   ],
   "source": [
    "var =[12,67.34,89]\n",
    "print(len(var))\n",
    "print(max(var))\n",
    "print(min(var))\n",
    "print(sum(var))"
   ]
  },
  {
   "cell_type": "code",
   "execution_count": 10,
   "metadata": {},
   "outputs": [
    {
     "name": "stdout",
     "output_type": "stream",
     "text": [
      "['__add__', '__class__', '__contains__', '__delattr__', '__delitem__', '__dir__', '__doc__', '__eq__', '__format__', '__ge__', '__getattribute__', '__getitem__', '__gt__', '__hash__', '__iadd__', '__imul__', '__init__', '__init_subclass__', '__iter__', '__le__', '__len__', '__lt__', '__mul__', '__ne__', '__new__', '__reduce__', '__reduce_ex__', '__repr__', '__reversed__', '__rmul__', '__setattr__', '__setitem__', '__sizeof__', '__str__', '__subclasshook__', 'append', 'clear', 'copy', 'count', 'extend', 'index', 'insert', 'pop', 'remove', 'reverse', 'sort']\n"
     ]
    }
   ],
   "source": [
    "print(dir(list))"
   ]
  },
  {
   "cell_type": "code",
   "execution_count": 12,
   "metadata": {},
   "outputs": [
    {
     "name": "stdout",
     "output_type": "stream",
     "text": [
      "[12, 45, 67, 90]\n",
      "[12, 45, 67, 90]\n"
     ]
    }
   ],
   "source": [
    "a = [12,45]\n",
    "b = [67,90]\n",
    "print(a+b)\n",
    "print(a.__add__(b))"
   ]
  },
  {
   "cell_type": "code",
   "execution_count": 13,
   "metadata": {},
   "outputs": [
    {
     "name": "stdout",
     "output_type": "stream",
     "text": [
      "True\n",
      "True\n"
     ]
    }
   ],
   "source": [
    "a = [12,45]\n",
    "b = [67,90]\n",
    "print(a<b)\n",
    "print(a.__lt__(b))"
   ]
  },
  {
   "cell_type": "code",
   "execution_count": 14,
   "metadata": {},
   "outputs": [
    {
     "name": "stdout",
     "output_type": "stream",
     "text": [
      "False\n",
      "False\n"
     ]
    }
   ],
   "source": [
    "a = [12,45]\n",
    "b = [67,90]\n",
    "print(a>b)\n",
    "print(a.__gt__(b))"
   ]
  },
  {
   "cell_type": "code",
   "execution_count": 15,
   "metadata": {},
   "outputs": [
    {
     "name": "stdout",
     "output_type": "stream",
     "text": [
      "[12, 89]\n",
      "[12, 89, 67]\n"
     ]
    }
   ],
   "source": [
    "a = [12,89]\n",
    "print(a)\n",
    "a.append(67)\n",
    "print(a)"
   ]
  },
  {
   "cell_type": "code",
   "execution_count": 16,
   "metadata": {},
   "outputs": [
    {
     "name": "stdout",
     "output_type": "stream",
     "text": [
      "[12, 45, 67, 90]\n"
     ]
    }
   ],
   "source": [
    "a = [12,45]\n",
    "b = [67,90]\n",
    "a.extend(b)\n",
    "print(a)"
   ]
  },
  {
   "cell_type": "code",
   "execution_count": 18,
   "metadata": {},
   "outputs": [
    {
     "name": "stdout",
     "output_type": "stream",
     "text": [
      "[67, 90, 120]\n",
      "[67, 90]\n"
     ]
    }
   ],
   "source": [
    "a = [12,45]\n",
    "b = [67,90]\n",
    "a = b.copy()\n",
    "a.append(120)\n",
    "print(a)\n",
    "print(b)"
   ]
  },
  {
   "cell_type": "code",
   "execution_count": 19,
   "metadata": {},
   "outputs": [
    {
     "name": "stdout",
     "output_type": "stream",
     "text": [
      "[67, 90, 120]\n",
      "[67, 90, 120]\n"
     ]
    }
   ],
   "source": [
    "a = [12,45]\n",
    "b = [67,90]\n",
    "a = b\n",
    "a.append(120)\n",
    "print(a)\n",
    "print(b)"
   ]
  },
  {
   "cell_type": "code",
   "execution_count": 20,
   "metadata": {},
   "outputs": [
    {
     "name": "stdout",
     "output_type": "stream",
     "text": [
      "[]\n",
      "[67, 90]\n"
     ]
    }
   ],
   "source": [
    "a = [12,45]\n",
    "b = [67,90]\n",
    "a.clear()\n",
    "print(a)\n",
    "print(b)"
   ]
  },
  {
   "cell_type": "code",
   "execution_count": 24,
   "metadata": {},
   "outputs": [
    {
     "name": "stdout",
     "output_type": "stream",
     "text": [
      "[12, 45, 78, 45]\n",
      "45\n",
      "[12, 45, 78]\n",
      "12\n",
      "[45, 78]\n"
     ]
    }
   ],
   "source": [
    "a = [12,45,78]\n",
    "a.append(45)\n",
    "print(a)\n",
    "print(a.pop())\n",
    "print(a)\n",
    "print(a.pop(0)\n",
    "print(a)"
   ]
  },
  {
   "cell_type": "code",
   "execution_count": 25,
   "metadata": {},
   "outputs": [
    {
     "name": "stdout",
     "output_type": "stream",
     "text": [
      "[12, 89]\n"
     ]
    }
   ],
   "source": [
    "a = [12,7,89]\n",
    "a.remove(7)\n",
    "print(a)"
   ]
  },
  {
   "cell_type": "code",
   "execution_count": 26,
   "metadata": {},
   "outputs": [
    {
     "name": "stdout",
     "output_type": "stream",
     "text": [
      "1\n"
     ]
    }
   ],
   "source": [
    "a=[12,89,45]\n",
    "print(a.index(89))"
   ]
  },
  {
   "cell_type": "code",
   "execution_count": 27,
   "metadata": {},
   "outputs": [
    {
     "data": {
      "text/plain": [
       "3"
      ]
     },
     "execution_count": 27,
     "metadata": {},
     "output_type": "execute_result"
    }
   ],
   "source": [
    "a = [12,78,12,89,12]\n",
    "a.count(12)"
   ]
  },
  {
   "cell_type": "code",
   "execution_count": 30,
   "metadata": {},
   "outputs": [
    {
     "data": {
      "text/plain": [
       "[12, 78, 12, 100, 89, 12]"
      ]
     },
     "execution_count": 30,
     "metadata": {},
     "output_type": "execute_result"
    }
   ],
   "source": [
    "a = [12,78,12,89,12]\n",
    "a.insert(3,100)\n",
    "a"
   ]
  },
  {
   "cell_type": "code",
   "execution_count": 31,
   "metadata": {},
   "outputs": [
    {
     "data": {
      "text/plain": [
       "[12, 89, 12, 78, 12]"
      ]
     },
     "execution_count": 31,
     "metadata": {},
     "output_type": "execute_result"
    }
   ],
   "source": [
    "a = [12,78,12,89,12]\n",
    "a.reverse()\n",
    "a"
   ]
  },
  {
   "cell_type": "code",
   "execution_count": 32,
   "metadata": {},
   "outputs": [
    {
     "data": {
      "text/plain": [
       "[12, 12, 12, 78, 89]"
      ]
     },
     "execution_count": 32,
     "metadata": {},
     "output_type": "execute_result"
    }
   ],
   "source": [
    "a = [12,78,12,89,12]\n",
    "a.sort()\n",
    "a"
   ]
  },
  {
   "cell_type": "code",
   "execution_count": 33,
   "metadata": {},
   "outputs": [
    {
     "name": "stdout",
     "output_type": "stream",
     "text": [
      "['__add__', '__class__', '__contains__', '__delattr__', '__delitem__', '__dir__', '__doc__', '__eq__', '__format__', '__ge__', '__getattribute__', '__getitem__', '__gt__', '__hash__', '__iadd__', '__imul__', '__init__', '__init_subclass__', '__iter__', '__le__', '__len__', '__lt__', '__mul__', '__ne__', '__new__', '__reduce__', '__reduce_ex__', '__repr__', '__reversed__', '__rmul__', '__setattr__', '__setitem__', '__sizeof__', '__str__', '__subclasshook__', 'append', 'clear', 'copy', 'count', 'extend', 'index', 'insert', 'pop', 'remove', 'reverse', 'sort']\n"
     ]
    }
   ],
   "source": [
    "print(dir(list))"
   ]
  },
  {
   "cell_type": "code",
   "execution_count": 34,
   "metadata": {},
   "outputs": [
    {
     "name": "stdout",
     "output_type": "stream",
     "text": [
      "<class 'tuple'>\n"
     ]
    }
   ],
   "source": [
    "a = (12,45,89)\n",
    "print(type(a))"
   ]
  },
  {
   "cell_type": "code",
   "execution_count": 37,
   "metadata": {},
   "outputs": [
    {
     "name": "stdout",
     "output_type": "stream",
     "text": [
      "89\n",
      "45\n",
      "(12, 45, 89)\n",
      "(12, 89)\n"
     ]
    }
   ],
   "source": [
    "a = (12,45,89)\n",
    "print(a[2])\n",
    "print(a[-2])\n",
    "print(a[0:3])\n",
    "print(a[0:3:2])"
   ]
  },
  {
   "cell_type": "code",
   "execution_count": 39,
   "metadata": {},
   "outputs": [
    {
     "ename": "TypeError",
     "evalue": "'tuple' object does not support item assignment",
     "output_type": "error",
     "traceback": [
      "\u001b[1;31m---------------------------------------------------------------------------\u001b[0m",
      "\u001b[1;31mTypeError\u001b[0m                                 Traceback (most recent call last)",
      "\u001b[1;32m<ipython-input-39-69f06ef823ab>\u001b[0m in \u001b[0;36m<module>\u001b[1;34m\u001b[0m\n\u001b[0;32m      1\u001b[0m \u001b[0ma\u001b[0m \u001b[1;33m=\u001b[0m \u001b[1;33m(\u001b[0m\u001b[1;36m12\u001b[0m\u001b[1;33m,\u001b[0m\u001b[1;36m45\u001b[0m\u001b[1;33m,\u001b[0m\u001b[1;36m89\u001b[0m\u001b[1;33m)\u001b[0m\u001b[1;33m\u001b[0m\u001b[1;33m\u001b[0m\u001b[0m\n\u001b[1;32m----> 2\u001b[1;33m \u001b[0ma\u001b[0m\u001b[1;33m[\u001b[0m\u001b[1;36m2\u001b[0m\u001b[1;33m]\u001b[0m\u001b[1;33m=\u001b[0m\u001b[1;36m123\u001b[0m\u001b[1;33m\u001b[0m\u001b[1;33m\u001b[0m\u001b[0m\n\u001b[0m",
      "\u001b[1;31mTypeError\u001b[0m: 'tuple' object does not support item assignment"
     ]
    }
   ],
   "source": [
    "a = (12,45,89)\n",
    "a[2]=123"
   ]
  },
  {
   "cell_type": "code",
   "execution_count": 40,
   "metadata": {},
   "outputs": [
    {
     "name": "stdout",
     "output_type": "stream",
     "text": [
      "['__add__', '__class__', '__contains__', '__delattr__', '__dir__', '__doc__', '__eq__', '__format__', '__ge__', '__getattribute__', '__getitem__', '__getnewargs__', '__gt__', '__hash__', '__init__', '__init_subclass__', '__iter__', '__le__', '__len__', '__lt__', '__mul__', '__ne__', '__new__', '__reduce__', '__reduce_ex__', '__repr__', '__rmul__', '__setattr__', '__sizeof__', '__str__', '__subclasshook__', 'count', 'index']\n"
     ]
    }
   ],
   "source": [
    "print(dir(tuple))"
   ]
  },
  {
   "cell_type": "code",
   "execution_count": 41,
   "metadata": {},
   "outputs": [
    {
     "data": {
      "text/plain": [
       "(12, 45, 90, 100)"
      ]
     },
     "execution_count": 41,
     "metadata": {},
     "output_type": "execute_result"
    }
   ],
   "source": [
    "a =(12,45,90)\n",
    "a =list(a)\n",
    "a.append(100)\n",
    "a = tuple(a)\n",
    "a"
   ]
  }
 ],
 "metadata": {
  "kernelspec": {
   "display_name": "Python 3",
   "language": "python",
   "name": "python3"
  },
  "language_info": {
   "codemirror_mode": {
    "name": "ipython",
    "version": 3
   },
   "file_extension": ".py",
   "mimetype": "text/x-python",
   "name": "python",
   "nbconvert_exporter": "python",
   "pygments_lexer": "ipython3",
   "version": "3.7.3"
  }
 },
 "nbformat": 4,
 "nbformat_minor": 2
}
